{
 "cells": [
  {
   "cell_type": "code",
   "execution_count": 1,
   "metadata": {},
   "outputs": [
    {
     "name": "stderr",
     "output_type": "stream",
     "text": [
      "/srv/scratch/CRUISE/Wilson/micromamba/lib/python3.12/site-packages/tqdm/auto.py:21: TqdmWarning: IProgress not found. Please update jupyter and ipywidgets. See https://ipywidgets.readthedocs.io/en/stable/user_install.html\n",
      "  from .autonotebook import tqdm as notebook_tqdm\n"
     ]
    }
   ],
   "source": [
    "from argparse import ArgumentParser\n",
    "from pathlib import Path\n",
    "\n",
    "import torch\n",
    "import torch.nn.functional as F\n",
    "import numpy as np\n",
    "import pandas as pd\n",
    "from sklearn.metrics import f1_score\n",
    "from sklearn.model_selection import train_test_split\n",
    "from datasets import Dataset, DatasetDict\n",
    "from transformers import (\n",
    "    AutoTokenizer,\n",
    "    AutoModelForSequenceClassification,\n",
    "    DataCollatorWithPadding,\n",
    "    TrainingArguments,\n",
    "    Trainer,\n",
    "    EarlyStoppingCallback,\n",
    ")"
   ]
  },
  {
   "cell_type": "code",
   "execution_count": 2,
   "metadata": {},
   "outputs": [],
   "source": [
    "import torch.nn as nn\n",
    "from transformers import AutoModel"
   ]
  },
  {
   "cell_type": "code",
   "execution_count": 3,
   "metadata": {},
   "outputs": [],
   "source": [
    "from dataclasses import dataclass\n",
    "\n",
    "@dataclass\n",
    "class Args:\n",
    "    train_file: str = \"../public_data/train/track_a/sun.csv\"\n",
    "    test_file: str = \"../public_data/dev/track_a/sun_a.csv\"\n",
    "    model_checkpoint: str = \"LazarusNLP/NusaBERT-base\"\n",
    "    output_dir: str = \"models\"\n",
    "    num_train_epochs: int = 50\n",
    "    optim: str = \"adamw_torch\"\n",
    "    early_stopping_patience: int = 5\n",
    "    early_stopping_threshold: float = 0.0\n",
    "    learning_rate: float = 1e-5\n",
    "    warmup_ratio: float = 0.1\n",
    "    weight_decay: float = 0.01\n",
    "    per_device_train_batch_size: int = 8\n",
    "    per_device_eval_batch_size: int = 16\n",
    "    alpha: float = 0.2\n",
    "    fp16: bool = False\n",
    "    bf16: bool = False\n",
    "    hub_model_id: str = \"LazarusNLP/NusaBERT-base-CASA\"\n",
    "\n",
    "args = Args()"
   ]
  },
  {
   "cell_type": "code",
   "execution_count": 4,
   "metadata": {},
   "outputs": [],
   "source": [
    "train_df = pd.read_csv(args.train_file)\n",
    "train_df, val_df = train_test_split(train_df, test_size=0.1, random_state=42)\n",
    "test_df = pd.read_csv(args.test_file)\n",
    "\n",
    "labels = sorted(set(train_df.columns) - set([\"id\", \"text\"]))\n",
    "label2id = {l: i for i, l in enumerate(labels)}\n",
    "id2label = {i: l for i, l in enumerate(labels)}\n",
    "test_df.loc[:, labels] = 0\n",
    "\n",
    "dataset = DatasetDict(\n",
    "    {\n",
    "        \"train\": Dataset.from_pandas(train_df.reset_index(drop=True)),\n",
    "        \"validation\": Dataset.from_pandas(val_df.reset_index(drop=True)),\n",
    "        \"test\": Dataset.from_pandas(test_df),\n",
    "    }\n",
    ")"
   ]
  },
  {
   "cell_type": "code",
   "execution_count": 16,
   "metadata": {},
   "outputs": [],
   "source": [
    "class SpanEmo(nn.Module):\n",
    "    def __init__(self, model_checkpoint, output_dropout=0.1, alpha=0.2):\n",
    "        super().__init__()\n",
    "        self.alpha = alpha\n",
    "        self.bert = AutoModel.from_pretrained(model_checkpoint)\n",
    "        self.ffn = nn.Sequential(\n",
    "            nn.Linear(self.bert.config.hidden_size, self.bert.config.hidden_size),\n",
    "            nn.Tanh(),\n",
    "            nn.Dropout(p=output_dropout),\n",
    "            nn.Linear(self.bert.config.hidden_size, 1),\n",
    "        )\n",
    "\n",
    "    def forward(self, input_ids, token_type_ids, attention_mask, label_idxs, labels=None):\n",
    "        label_idxs = label_idxs[0].long()\n",
    "\n",
    "        last_hidden_state = self.bert(\n",
    "            input_ids=input_ids, token_type_ids=token_type_ids, attention_mask=attention_mask\n",
    "        ).last_hidden_state\n",
    "        logits = self.ffn(last_hidden_state).squeeze(-1).index_select(dim=1, index=label_idxs)\n",
    "\n",
    "        if labels is not None:\n",
    "            bce_loss = F.binary_cross_entropy_with_logits(logits, labels.to(torch.float32))\n",
    "            corr_loss = self.corr_loss(logits, labels)\n",
    "            loss = ((1 - self.alpha) * bce_loss) + (self.alpha * corr_loss)\n",
    "            return {\"loss\": loss, \"logits\": logits}\n",
    "        else:\n",
    "            return {\"logits\": logits}\n",
    "\n",
    "    @staticmethod\n",
    "    def corr_loss(y_hat, y_true, reduction=\"mean\"):\n",
    "        \"\"\"\n",
    "        :param y_hat: model predictions, shape(batch, classes)\n",
    "        :param y_true: target labels (batch, classes)\n",
    "        :param reduction: whether to avg or sum loss\n",
    "        :return: loss\n",
    "        \"\"\"\n",
    "        loss = torch.zeros(y_true.size(0)).to(y_true.device)\n",
    "        for idx, (y, y_h) in enumerate(zip(y_true, y_hat.sigmoid())):\n",
    "            y_z, y_o = (y == 0).nonzero(), y.nonzero()\n",
    "            if y_o.nelement() != 0:\n",
    "                output = torch.exp(torch.sub(y_h[y_z], y_h[y_o][:, None]).squeeze(-1)).sum()\n",
    "                num_comparisons = y_z.size(0) * y_o.size(0)\n",
    "                loss[idx] = output.div(num_comparisons)\n",
    "        return loss.mean() if reduction == \"mean\" else loss.sum()"
   ]
  },
  {
   "cell_type": "code",
   "execution_count": 17,
   "metadata": {},
   "outputs": [
    {
     "name": "stderr",
     "output_type": "stream",
     "text": [
      "Some weights of BertModel were not initialized from the model checkpoint at LazarusNLP/NusaBERT-base and are newly initialized: ['bert.pooler.dense.bias', 'bert.pooler.dense.weight']\n",
      "You should probably TRAIN this model on a down-stream task to be able to use it for predictions and inference.\n"
     ]
    }
   ],
   "source": [
    "model = SpanEmo(args.model_checkpoint, alpha=args.alpha)"
   ]
  },
  {
   "cell_type": "code",
   "execution_count": 18,
   "metadata": {},
   "outputs": [],
   "source": [
    "tokenizer = AutoTokenizer.from_pretrained(args.model_checkpoint)"
   ]
  },
  {
   "cell_type": "code",
   "execution_count": 9,
   "metadata": {},
   "outputs": [
    {
     "name": "stderr",
     "output_type": "stream",
     "text": [
      "Map: 100%|██████████| 831/831 [00:00<00:00, 1707.40 examples/s]\n",
      "Map: 100%|██████████| 93/93 [00:00<00:00, 1602.41 examples/s]\n",
      "Map: 100%|██████████| 199/199 [00:00<00:00, 1642.50 examples/s]\n"
     ]
    }
   ],
   "source": [
    "def preprocess_function(example):\n",
    "    label_names = \"marah jijik takut gembira sedih terkejut\"\n",
    "    tokenized_input = tokenizer(\n",
    "        label_names, example[\"text\"], truncation=True, max_length=model.bert.config.max_position_embeddings\n",
    "    )\n",
    "    tokenized_input[\"labels\"] = [float(example[label]) for label in labels]\n",
    "    tokenized_input[\"label_idxs\"] = [\n",
    "        tokenizer.convert_ids_to_tokens(tokenized_input[\"input_ids\"]).index(l) for l in label_names.split()\n",
    "    ]\n",
    "    return tokenized_input\n",
    "\n",
    "tokenized_dataset = dataset.map(preprocess_function, remove_columns=dataset[\"train\"].column_names)"
   ]
  },
  {
   "cell_type": "code",
   "execution_count": 59,
   "metadata": {},
   "outputs": [],
   "source": [
    "# inputs = preprocess_function(dataset[\"train\"][0])\n",
    "# inputs = {k: torch.tensor(v).unsqueeze(0) for k, v in inputs.items()}\n",
    "# labels = inputs.pop(\"labels\")\n",
    "# model(**inputs)"
   ]
  },
  {
   "cell_type": "code",
   "execution_count": 19,
   "metadata": {},
   "outputs": [],
   "source": [
    "data_collator = DataCollatorWithPadding(tokenizer=tokenizer)"
   ]
  },
  {
   "cell_type": "code",
   "execution_count": 35,
   "metadata": {},
   "outputs": [],
   "source": [
    "def sigmoid(x):\n",
    "    return 1 / (1 + np.exp(-x))\n",
    "\n",
    "def compute_metrics(eval_pred):\n",
    "    predictions, labels = eval_pred\n",
    "    predictions = sigmoid(predictions)\n",
    "    predictions = (predictions > 0.5).astype(int)\n",
    "    labels = labels.astype(int)\n",
    "    return {\"f1\": f1_score(y_true=labels, y_pred=predictions, average=\"macro\")}\n",
    "\n",
    "callbacks = [EarlyStoppingCallback(args.early_stopping_patience, args.early_stopping_threshold)]"
   ]
  },
  {
   "cell_type": "code",
   "execution_count": 36,
   "metadata": {},
   "outputs": [],
   "source": [
    "training_args = TrainingArguments(\n",
    "    output_dir=\"tmp/\",\n",
    "    eval_strategy=\"epoch\",\n",
    "    save_strategy=\"epoch\",\n",
    "    per_device_train_batch_size=args.per_device_train_batch_size,\n",
    "    per_device_eval_batch_size=args.per_device_eval_batch_size,\n",
    "    learning_rate=args.learning_rate,\n",
    "    warmup_ratio=args.warmup_ratio,\n",
    "    optim=args.optim,\n",
    "    weight_decay=args.weight_decay,\n",
    "    num_train_epochs=args.num_train_epochs,\n",
    "    save_total_limit=3,\n",
    "    load_best_model_at_end=True,\n",
    "    metric_for_best_model=\"f1\",\n",
    "    fp16=args.fp16,\n",
    "    bf16=args.bf16,\n",
    "    report_to=\"tensorboard\",\n",
    "    label_names=[\"labels\"],\n",
    "    # push_to_hub=True,\n",
    "    # hub_model_id=args.hub_model_id,\n",
    "    # hub_private_repo=True,\n",
    ")"
   ]
  },
  {
   "cell_type": "code",
   "execution_count": 37,
   "metadata": {},
   "outputs": [],
   "source": [
    "trainer = Trainer(\n",
    "    model=model,\n",
    "    args=training_args,\n",
    "    train_dataset=tokenized_dataset[\"train\"],\n",
    "    eval_dataset=tokenized_dataset[\"validation\"],\n",
    "    tokenizer=tokenizer,\n",
    "    data_collator=data_collator,\n",
    "    compute_metrics=compute_metrics,\n",
    "    callbacks=callbacks,\n",
    ")"
   ]
  },
  {
   "cell_type": "code",
   "execution_count": null,
   "metadata": {},
   "outputs": [],
   "source": [
    "trainer.train()"
   ]
  },
  {
   "cell_type": "code",
   "execution_count": 40,
   "metadata": {},
   "outputs": [],
   "source": [
    "val_scores, *_ = trainer.predict(tokenized_dataset[\"validation\"])\n",
    "val_scores = sigmoid(val_scores)"
   ]
  },
  {
   "cell_type": "code",
   "execution_count": 42,
   "metadata": {},
   "outputs": [],
   "source": [
    "val_labels = val_df[labels].astype(int).to_numpy()\n",
    "\n",
    "# find best threshold via validation set, apply best threshold to test set\n",
    "thresholds = np.arange(0.0, 1.0, 0.01)\n",
    "scores = []\n",
    "\n",
    "for threshold in thresholds:\n",
    "    val_prediction = (val_scores > threshold).astype(int)\n",
    "    metrics_result = f1_score(y_true=val_labels, y_pred=val_prediction, average=\"macro\")\n",
    "    scores.append((threshold, metrics_result))"
   ]
  },
  {
   "cell_type": "code",
   "execution_count": 43,
   "metadata": {},
   "outputs": [
    {
     "data": {
      "text/plain": [
       "[(0.0, 0.2986935391117492),\n",
       " (0.01, 0.2986935391117492),\n",
       " (0.02, 0.2986935391117492),\n",
       " (0.03, 0.2986935391117492),\n",
       " (0.04, 0.2986935391117492),\n",
       " (0.05, 0.2986935391117492),\n",
       " (0.06, 0.2986935391117492),\n",
       " (0.07, 0.2986935391117492),\n",
       " (0.08, 0.2986935391117492),\n",
       " (0.09, 0.2986935391117492),\n",
       " (0.1, 0.2986935391117492),\n",
       " (0.11, 0.2986935391117492),\n",
       " (0.12, 0.2986935391117492),\n",
       " (0.13, 0.2986935391117492),\n",
       " (0.14, 0.2986935391117492),\n",
       " (0.15, 0.2986935391117492),\n",
       " (0.16, 0.2986935391117492),\n",
       " (0.17, 0.2986935391117492),\n",
       " (0.18, 0.2986935391117492),\n",
       " (0.19, 0.2986935391117492),\n",
       " (0.2, 0.2986935391117492),\n",
       " (0.21, 0.2986935391117492),\n",
       " (0.22, 0.2986935391117492),\n",
       " (0.23, 0.2986935391117492),\n",
       " (0.24, 0.2986935391117492),\n",
       " (0.25, 0.2986935391117492),\n",
       " (0.26, 0.2986935391117492),\n",
       " (0.27, 0.2986935391117492),\n",
       " (0.28, 0.2986935391117492),\n",
       " (0.29, 0.2986935391117492),\n",
       " (0.3, 0.2986935391117492),\n",
       " (0.31, 0.2986935391117492),\n",
       " (0.32, 0.2986935391117492),\n",
       " (0.33, 0.2990828772369364),\n",
       " (0.34, 0.2994797026337618),\n",
       " (0.35000000000000003, 0.3004276272610358),\n",
       " (0.36, 0.30037407279575357),\n",
       " (0.37, 0.29592351084200175),\n",
       " (0.38, 0.29200952751612447),\n",
       " (0.39, 0.2857750944707466),\n",
       " (0.4, 0.2856641427220499),\n",
       " (0.41000000000000003, 0.27405055332139455),\n",
       " (0.42, 0.25205025706172773),\n",
       " (0.43, 0.2356675333622055),\n",
       " (0.44, 0.2253585157023427),\n",
       " (0.45, 0.20312794272063148),\n",
       " (0.46, 0.17132769970345488),\n",
       " (0.47000000000000003, 0.16485727563741748),\n",
       " (0.48, 0.1219602142059268),\n",
       " (0.49, 0.07353266888150609),\n",
       " (0.5, 0.05695611577964519),\n",
       " (0.51, 0.02705354639753294),\n",
       " (0.52, 0.014492753623188406),\n",
       " (0.53, 0.014492753623188406),\n",
       " (0.54, 0.014492753623188406),\n",
       " (0.55, 0.0),\n",
       " (0.56, 0.0),\n",
       " (0.5700000000000001, 0.0),\n",
       " (0.58, 0.0),\n",
       " (0.59, 0.0),\n",
       " (0.6, 0.0),\n",
       " (0.61, 0.0),\n",
       " (0.62, 0.0),\n",
       " (0.63, 0.0),\n",
       " (0.64, 0.0),\n",
       " (0.65, 0.0),\n",
       " (0.66, 0.0),\n",
       " (0.67, 0.0),\n",
       " (0.68, 0.0),\n",
       " (0.6900000000000001, 0.0),\n",
       " (0.7000000000000001, 0.0),\n",
       " (0.71, 0.0),\n",
       " (0.72, 0.0),\n",
       " (0.73, 0.0),\n",
       " (0.74, 0.0),\n",
       " (0.75, 0.0),\n",
       " (0.76, 0.0),\n",
       " (0.77, 0.0),\n",
       " (0.78, 0.0),\n",
       " (0.79, 0.0),\n",
       " (0.8, 0.0),\n",
       " (0.81, 0.0),\n",
       " (0.8200000000000001, 0.0),\n",
       " (0.8300000000000001, 0.0),\n",
       " (0.84, 0.0),\n",
       " (0.85, 0.0),\n",
       " (0.86, 0.0),\n",
       " (0.87, 0.0),\n",
       " (0.88, 0.0),\n",
       " (0.89, 0.0),\n",
       " (0.9, 0.0),\n",
       " (0.91, 0.0),\n",
       " (0.92, 0.0),\n",
       " (0.93, 0.0),\n",
       " (0.9400000000000001, 0.0),\n",
       " (0.9500000000000001, 0.0),\n",
       " (0.96, 0.0),\n",
       " (0.97, 0.0),\n",
       " (0.98, 0.0),\n",
       " (0.99, 0.0)]"
      ]
     },
     "execution_count": 43,
     "metadata": {},
     "output_type": "execute_result"
    }
   ],
   "source": [
    "scores"
   ]
  },
  {
   "cell_type": "code",
   "execution_count": null,
   "metadata": {},
   "outputs": [],
   "source": []
  }
 ],
 "metadata": {
  "kernelspec": {
   "display_name": "Python 3",
   "language": "python",
   "name": "python3"
  },
  "language_info": {
   "codemirror_mode": {
    "name": "ipython",
    "version": 3
   },
   "file_extension": ".py",
   "mimetype": "text/x-python",
   "name": "python",
   "nbconvert_exporter": "python",
   "pygments_lexer": "ipython3",
   "version": "3.12.0"
  }
 },
 "nbformat": 4,
 "nbformat_minor": 2
}
